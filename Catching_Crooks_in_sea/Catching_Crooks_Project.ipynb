{
 "cells": [
  {
   "cell_type": "code",
   "execution_count": 1,
   "metadata": {},
   "outputs": [],
   "source": [
    "import sklearn                                         \n",
    "import numpy as np                                     \n",
    "import pandas as pd\n",
    "import plotly as plot\n",
    "import matplotlib.pyplot as plt\n",
    "import seaborn as sns\n",
    "from sklearn.model_selection import train_test_split\n",
    "from sklearn.preprocessing import StandardScaler\n",
    "from sklearn.tree import DecisionTreeClassifier\n",
    "\n",
    "from sklearn.metrics import accuracy_score\n",
    "\n"
   ]
  },
  {
   "cell_type": "code",
   "execution_count": 2,
   "metadata": {},
   "outputs": [
    {
     "data": {
      "text/html": [
       "<div>\n",
       "<style scoped>\n",
       "    .dataframe tbody tr th:only-of-type {\n",
       "        vertical-align: middle;\n",
       "    }\n",
       "\n",
       "    .dataframe tbody tr th {\n",
       "        vertical-align: top;\n",
       "    }\n",
       "\n",
       "    .dataframe thead th {\n",
       "        text-align: right;\n",
       "    }\n",
       "</style>\n",
       "<table border=\"1\" class=\"dataframe\">\n",
       "  <thead>\n",
       "    <tr style=\"text-align: right;\">\n",
       "      <th></th>\n",
       "      <th>mmsi</th>\n",
       "      <th>flag</th>\n",
       "      <th>geartype</th>\n",
       "      <th>length</th>\n",
       "      <th>tonnage</th>\n",
       "      <th>engine_power</th>\n",
       "      <th>active_2012</th>\n",
       "      <th>active_2013</th>\n",
       "      <th>active_2014</th>\n",
       "      <th>active_2015</th>\n",
       "      <th>active_2016</th>\n",
       "    </tr>\n",
       "  </thead>\n",
       "  <tbody>\n",
       "    <tr>\n",
       "      <th>0</th>\n",
       "      <td>603100157</td>\n",
       "      <td>AGO</td>\n",
       "      <td>trawlers</td>\n",
       "      <td>32.808468</td>\n",
       "      <td>299.003814</td>\n",
       "      <td>733.826977</td>\n",
       "      <td>False</td>\n",
       "      <td>False</td>\n",
       "      <td>False</td>\n",
       "      <td>True</td>\n",
       "      <td>True</td>\n",
       "    </tr>\n",
       "    <tr>\n",
       "      <th>1</th>\n",
       "      <td>603100137</td>\n",
       "      <td>AGO</td>\n",
       "      <td>trawlers</td>\n",
       "      <td>34.568782</td>\n",
       "      <td>395.683171</td>\n",
       "      <td>864.960188</td>\n",
       "      <td>False</td>\n",
       "      <td>False</td>\n",
       "      <td>False</td>\n",
       "      <td>True</td>\n",
       "      <td>True</td>\n",
       "    </tr>\n",
       "    <tr>\n",
       "      <th>2</th>\n",
       "      <td>603100161</td>\n",
       "      <td>AGO</td>\n",
       "      <td>trawlers</td>\n",
       "      <td>28.822140</td>\n",
       "      <td>263.849149</td>\n",
       "      <td>651.809642</td>\n",
       "      <td>False</td>\n",
       "      <td>False</td>\n",
       "      <td>False</td>\n",
       "      <td>True</td>\n",
       "      <td>True</td>\n",
       "    </tr>\n",
       "    <tr>\n",
       "      <th>3</th>\n",
       "      <td>603100174</td>\n",
       "      <td>AGO</td>\n",
       "      <td>trawlers</td>\n",
       "      <td>30.721429</td>\n",
       "      <td>299.700916</td>\n",
       "      <td>703.796086</td>\n",
       "      <td>False</td>\n",
       "      <td>False</td>\n",
       "      <td>False</td>\n",
       "      <td>True</td>\n",
       "      <td>True</td>\n",
       "    </tr>\n",
       "    <tr>\n",
       "      <th>4</th>\n",
       "      <td>603100164</td>\n",
       "      <td>AGO</td>\n",
       "      <td>trawlers</td>\n",
       "      <td>37.479248</td>\n",
       "      <td>405.967747</td>\n",
       "      <td>850.976640</td>\n",
       "      <td>False</td>\n",
       "      <td>False</td>\n",
       "      <td>False</td>\n",
       "      <td>True</td>\n",
       "      <td>True</td>\n",
       "    </tr>\n",
       "    <tr>\n",
       "      <th>...</th>\n",
       "      <td>...</td>\n",
       "      <td>...</td>\n",
       "      <td>...</td>\n",
       "      <td>...</td>\n",
       "      <td>...</td>\n",
       "      <td>...</td>\n",
       "      <td>...</td>\n",
       "      <td>...</td>\n",
       "      <td>...</td>\n",
       "      <td>...</td>\n",
       "      <td>...</td>\n",
       "    </tr>\n",
       "    <tr>\n",
       "      <th>73004</th>\n",
       "      <td>601764000</td>\n",
       "      <td>ZAF</td>\n",
       "      <td>drifting_longlines</td>\n",
       "      <td>17.032258</td>\n",
       "      <td>52.550920</td>\n",
       "      <td>207.818629</td>\n",
       "      <td>False</td>\n",
       "      <td>True</td>\n",
       "      <td>True</td>\n",
       "      <td>True</td>\n",
       "      <td>True</td>\n",
       "    </tr>\n",
       "    <tr>\n",
       "      <th>73005</th>\n",
       "      <td>601089100</td>\n",
       "      <td>ZAF</td>\n",
       "      <td>drifting_longlines</td>\n",
       "      <td>22.915622</td>\n",
       "      <td>180.506028</td>\n",
       "      <td>527.507463</td>\n",
       "      <td>False</td>\n",
       "      <td>False</td>\n",
       "      <td>False</td>\n",
       "      <td>True</td>\n",
       "      <td>True</td>\n",
       "    </tr>\n",
       "    <tr>\n",
       "      <th>73006</th>\n",
       "      <td>601849000</td>\n",
       "      <td>ZAF</td>\n",
       "      <td>drifting_longlines</td>\n",
       "      <td>19.692080</td>\n",
       "      <td>86.485661</td>\n",
       "      <td>362.553279</td>\n",
       "      <td>False</td>\n",
       "      <td>False</td>\n",
       "      <td>True</td>\n",
       "      <td>True</td>\n",
       "      <td>True</td>\n",
       "    </tr>\n",
       "    <tr>\n",
       "      <th>73007</th>\n",
       "      <td>601183700</td>\n",
       "      <td>ZAF</td>\n",
       "      <td>drifting_longlines</td>\n",
       "      <td>31.872860</td>\n",
       "      <td>307.446773</td>\n",
       "      <td>977.330342</td>\n",
       "      <td>False</td>\n",
       "      <td>False</td>\n",
       "      <td>True</td>\n",
       "      <td>True</td>\n",
       "      <td>True</td>\n",
       "    </tr>\n",
       "    <tr>\n",
       "      <th>73008</th>\n",
       "      <td>601826000</td>\n",
       "      <td>ZAF</td>\n",
       "      <td>drifting_longlines</td>\n",
       "      <td>25.401070</td>\n",
       "      <td>160.784917</td>\n",
       "      <td>365.421212</td>\n",
       "      <td>False</td>\n",
       "      <td>False</td>\n",
       "      <td>False</td>\n",
       "      <td>False</td>\n",
       "      <td>True</td>\n",
       "    </tr>\n",
       "  </tbody>\n",
       "</table>\n",
       "<p>73009 rows × 11 columns</p>\n",
       "</div>"
      ],
      "text/plain": [
       "            mmsi flag            geartype     length     tonnage  \\\n",
       "0      603100157  AGO            trawlers  32.808468  299.003814   \n",
       "1      603100137  AGO            trawlers  34.568782  395.683171   \n",
       "2      603100161  AGO            trawlers  28.822140  263.849149   \n",
       "3      603100174  AGO            trawlers  30.721429  299.700916   \n",
       "4      603100164  AGO            trawlers  37.479248  405.967747   \n",
       "...          ...  ...                 ...        ...         ...   \n",
       "73004  601764000  ZAF  drifting_longlines  17.032258   52.550920   \n",
       "73005  601089100  ZAF  drifting_longlines  22.915622  180.506028   \n",
       "73006  601849000  ZAF  drifting_longlines  19.692080   86.485661   \n",
       "73007  601183700  ZAF  drifting_longlines  31.872860  307.446773   \n",
       "73008  601826000  ZAF  drifting_longlines  25.401070  160.784917   \n",
       "\n",
       "       engine_power  active_2012  active_2013  active_2014  active_2015  \\\n",
       "0        733.826977        False        False        False         True   \n",
       "1        864.960188        False        False        False         True   \n",
       "2        651.809642        False        False        False         True   \n",
       "3        703.796086        False        False        False         True   \n",
       "4        850.976640        False        False        False         True   \n",
       "...             ...          ...          ...          ...          ...   \n",
       "73004    207.818629        False         True         True         True   \n",
       "73005    527.507463        False        False        False         True   \n",
       "73006    362.553279        False        False         True         True   \n",
       "73007    977.330342        False        False         True         True   \n",
       "73008    365.421212        False        False        False        False   \n",
       "\n",
       "       active_2016  \n",
       "0             True  \n",
       "1             True  \n",
       "2             True  \n",
       "3             True  \n",
       "4             True  \n",
       "...            ...  \n",
       "73004         True  \n",
       "73005         True  \n",
       "73006         True  \n",
       "73007         True  \n",
       "73008         True  \n",
       "\n",
       "[73009 rows x 11 columns]"
      ]
     },
     "execution_count": 2,
     "metadata": {},
     "output_type": "execute_result"
    }
   ],
   "source": [
    "df = pd.read_csv('fishing_vessels_v1.csv')                    \n",
    "\n",
    "\n",
    "df\n"
   ]
  },
  {
   "cell_type": "code",
   "execution_count": 3,
   "metadata": {},
   "outputs": [
    {
     "name": "stdout",
     "output_type": "stream",
     "text": [
      "<class 'pandas.core.frame.DataFrame'>\n",
      "RangeIndex: 73009 entries, 0 to 73008\n",
      "Data columns (total 11 columns):\n",
      " #   Column        Non-Null Count  Dtype  \n",
      "---  ------        --------------  -----  \n",
      " 0   mmsi          73009 non-null  int64  \n",
      " 1   flag          73009 non-null  object \n",
      " 2   geartype      73006 non-null  object \n",
      " 3   length        73007 non-null  float64\n",
      " 4   tonnage       73007 non-null  float64\n",
      " 5   engine_power  72999 non-null  float64\n",
      " 6   active_2012   73009 non-null  bool   \n",
      " 7   active_2013   73009 non-null  bool   \n",
      " 8   active_2014   73009 non-null  bool   \n",
      " 9   active_2015   73009 non-null  bool   \n",
      " 10  active_2016   73009 non-null  bool   \n",
      "dtypes: bool(5), float64(3), int64(1), object(2)\n",
      "memory usage: 3.7+ MB\n"
     ]
    }
   ],
   "source": [
    "df.info()                                           "
   ]
  },
  {
   "cell_type": "code",
   "execution_count": 4,
   "metadata": {},
   "outputs": [
    {
     "data": {
      "text/html": [
       "<div>\n",
       "<style scoped>\n",
       "    .dataframe tbody tr th:only-of-type {\n",
       "        vertical-align: middle;\n",
       "    }\n",
       "\n",
       "    .dataframe tbody tr th {\n",
       "        vertical-align: top;\n",
       "    }\n",
       "\n",
       "    .dataframe thead th {\n",
       "        text-align: right;\n",
       "    }\n",
       "</style>\n",
       "<table border=\"1\" class=\"dataframe\">\n",
       "  <thead>\n",
       "    <tr style=\"text-align: right;\">\n",
       "      <th></th>\n",
       "      <th>mmsi</th>\n",
       "      <th>flag</th>\n",
       "      <th>geartype</th>\n",
       "      <th>length</th>\n",
       "      <th>tonnage</th>\n",
       "      <th>engine_power</th>\n",
       "      <th>active_2012</th>\n",
       "      <th>active_2013</th>\n",
       "      <th>active_2014</th>\n",
       "      <th>active_2015</th>\n",
       "      <th>active_2016</th>\n",
       "    </tr>\n",
       "  </thead>\n",
       "  <tbody>\n",
       "    <tr>\n",
       "      <th>0</th>\n",
       "      <td>603100157</td>\n",
       "      <td>AGO</td>\n",
       "      <td>trawlers</td>\n",
       "      <td>32.808468</td>\n",
       "      <td>299.003814</td>\n",
       "      <td>733.826977</td>\n",
       "      <td>0</td>\n",
       "      <td>0</td>\n",
       "      <td>0</td>\n",
       "      <td>1</td>\n",
       "      <td>1</td>\n",
       "    </tr>\n",
       "    <tr>\n",
       "      <th>1</th>\n",
       "      <td>603100137</td>\n",
       "      <td>AGO</td>\n",
       "      <td>trawlers</td>\n",
       "      <td>34.568782</td>\n",
       "      <td>395.683171</td>\n",
       "      <td>864.960188</td>\n",
       "      <td>0</td>\n",
       "      <td>0</td>\n",
       "      <td>0</td>\n",
       "      <td>1</td>\n",
       "      <td>1</td>\n",
       "    </tr>\n",
       "    <tr>\n",
       "      <th>2</th>\n",
       "      <td>603100161</td>\n",
       "      <td>AGO</td>\n",
       "      <td>trawlers</td>\n",
       "      <td>28.822140</td>\n",
       "      <td>263.849149</td>\n",
       "      <td>651.809642</td>\n",
       "      <td>0</td>\n",
       "      <td>0</td>\n",
       "      <td>0</td>\n",
       "      <td>1</td>\n",
       "      <td>1</td>\n",
       "    </tr>\n",
       "    <tr>\n",
       "      <th>3</th>\n",
       "      <td>603100174</td>\n",
       "      <td>AGO</td>\n",
       "      <td>trawlers</td>\n",
       "      <td>30.721429</td>\n",
       "      <td>299.700916</td>\n",
       "      <td>703.796086</td>\n",
       "      <td>0</td>\n",
       "      <td>0</td>\n",
       "      <td>0</td>\n",
       "      <td>1</td>\n",
       "      <td>1</td>\n",
       "    </tr>\n",
       "    <tr>\n",
       "      <th>4</th>\n",
       "      <td>603100164</td>\n",
       "      <td>AGO</td>\n",
       "      <td>trawlers</td>\n",
       "      <td>37.479248</td>\n",
       "      <td>405.967747</td>\n",
       "      <td>850.976640</td>\n",
       "      <td>0</td>\n",
       "      <td>0</td>\n",
       "      <td>0</td>\n",
       "      <td>1</td>\n",
       "      <td>1</td>\n",
       "    </tr>\n",
       "    <tr>\n",
       "      <th>...</th>\n",
       "      <td>...</td>\n",
       "      <td>...</td>\n",
       "      <td>...</td>\n",
       "      <td>...</td>\n",
       "      <td>...</td>\n",
       "      <td>...</td>\n",
       "      <td>...</td>\n",
       "      <td>...</td>\n",
       "      <td>...</td>\n",
       "      <td>...</td>\n",
       "      <td>...</td>\n",
       "    </tr>\n",
       "    <tr>\n",
       "      <th>73004</th>\n",
       "      <td>601764000</td>\n",
       "      <td>ZAF</td>\n",
       "      <td>drifting_longlines</td>\n",
       "      <td>17.032258</td>\n",
       "      <td>52.550920</td>\n",
       "      <td>207.818629</td>\n",
       "      <td>0</td>\n",
       "      <td>1</td>\n",
       "      <td>1</td>\n",
       "      <td>1</td>\n",
       "      <td>1</td>\n",
       "    </tr>\n",
       "    <tr>\n",
       "      <th>73005</th>\n",
       "      <td>601089100</td>\n",
       "      <td>ZAF</td>\n",
       "      <td>drifting_longlines</td>\n",
       "      <td>22.915622</td>\n",
       "      <td>180.506028</td>\n",
       "      <td>527.507463</td>\n",
       "      <td>0</td>\n",
       "      <td>0</td>\n",
       "      <td>0</td>\n",
       "      <td>1</td>\n",
       "      <td>1</td>\n",
       "    </tr>\n",
       "    <tr>\n",
       "      <th>73006</th>\n",
       "      <td>601849000</td>\n",
       "      <td>ZAF</td>\n",
       "      <td>drifting_longlines</td>\n",
       "      <td>19.692080</td>\n",
       "      <td>86.485661</td>\n",
       "      <td>362.553279</td>\n",
       "      <td>0</td>\n",
       "      <td>0</td>\n",
       "      <td>1</td>\n",
       "      <td>1</td>\n",
       "      <td>1</td>\n",
       "    </tr>\n",
       "    <tr>\n",
       "      <th>73007</th>\n",
       "      <td>601183700</td>\n",
       "      <td>ZAF</td>\n",
       "      <td>drifting_longlines</td>\n",
       "      <td>31.872860</td>\n",
       "      <td>307.446773</td>\n",
       "      <td>977.330342</td>\n",
       "      <td>0</td>\n",
       "      <td>0</td>\n",
       "      <td>1</td>\n",
       "      <td>1</td>\n",
       "      <td>1</td>\n",
       "    </tr>\n",
       "    <tr>\n",
       "      <th>73008</th>\n",
       "      <td>601826000</td>\n",
       "      <td>ZAF</td>\n",
       "      <td>drifting_longlines</td>\n",
       "      <td>25.401070</td>\n",
       "      <td>160.784917</td>\n",
       "      <td>365.421212</td>\n",
       "      <td>0</td>\n",
       "      <td>0</td>\n",
       "      <td>0</td>\n",
       "      <td>0</td>\n",
       "      <td>1</td>\n",
       "    </tr>\n",
       "  </tbody>\n",
       "</table>\n",
       "<p>73009 rows × 11 columns</p>\n",
       "</div>"
      ],
      "text/plain": [
       "            mmsi flag            geartype     length     tonnage  \\\n",
       "0      603100157  AGO            trawlers  32.808468  299.003814   \n",
       "1      603100137  AGO            trawlers  34.568782  395.683171   \n",
       "2      603100161  AGO            trawlers  28.822140  263.849149   \n",
       "3      603100174  AGO            trawlers  30.721429  299.700916   \n",
       "4      603100164  AGO            trawlers  37.479248  405.967747   \n",
       "...          ...  ...                 ...        ...         ...   \n",
       "73004  601764000  ZAF  drifting_longlines  17.032258   52.550920   \n",
       "73005  601089100  ZAF  drifting_longlines  22.915622  180.506028   \n",
       "73006  601849000  ZAF  drifting_longlines  19.692080   86.485661   \n",
       "73007  601183700  ZAF  drifting_longlines  31.872860  307.446773   \n",
       "73008  601826000  ZAF  drifting_longlines  25.401070  160.784917   \n",
       "\n",
       "       engine_power  active_2012  active_2013  active_2014  active_2015  \\\n",
       "0        733.826977            0            0            0            1   \n",
       "1        864.960188            0            0            0            1   \n",
       "2        651.809642            0            0            0            1   \n",
       "3        703.796086            0            0            0            1   \n",
       "4        850.976640            0            0            0            1   \n",
       "...             ...          ...          ...          ...          ...   \n",
       "73004    207.818629            0            1            1            1   \n",
       "73005    527.507463            0            0            0            1   \n",
       "73006    362.553279            0            0            1            1   \n",
       "73007    977.330342            0            0            1            1   \n",
       "73008    365.421212            0            0            0            0   \n",
       "\n",
       "       active_2016  \n",
       "0                1  \n",
       "1                1  \n",
       "2                1  \n",
       "3                1  \n",
       "4                1  \n",
       "...            ...  \n",
       "73004            1  \n",
       "73005            1  \n",
       "73006            1  \n",
       "73007            1  \n",
       "73008            1  \n",
       "\n",
       "[73009 rows x 11 columns]"
      ]
     },
     "execution_count": 4,
     "metadata": {},
     "output_type": "execute_result"
    }
   ],
   "source": [
    "df[\"active_2012\"] = df[\"active_2012\"].astype(int)\n",
    "df[\"active_2013\"] = df[\"active_2013\"].astype(int)\n",
    "df[\"active_2014\"] = df[\"active_2014\"].astype(int)\n",
    "df[\"active_2015\"] = df[\"active_2015\"].astype(int)\n",
    "df[\"active_2016\"] = df[\"active_2016\"].astype(int)\n",
    "\n",
    "\n",
    "\n",
    "df"
   ]
  },
  {
   "cell_type": "markdown",
   "metadata": {},
   "source": [
    "## Data Preprocessing"
   ]
  },
  {
   "cell_type": "code",
   "execution_count": 5,
   "metadata": {},
   "outputs": [
    {
     "data": {
      "text/html": [
       "<div>\n",
       "<style scoped>\n",
       "    .dataframe tbody tr th:only-of-type {\n",
       "        vertical-align: middle;\n",
       "    }\n",
       "\n",
       "    .dataframe tbody tr th {\n",
       "        vertical-align: top;\n",
       "    }\n",
       "\n",
       "    .dataframe thead th {\n",
       "        text-align: right;\n",
       "    }\n",
       "</style>\n",
       "<table border=\"1\" class=\"dataframe\">\n",
       "  <thead>\n",
       "    <tr style=\"text-align: right;\">\n",
       "      <th></th>\n",
       "      <th>mmsi</th>\n",
       "      <th>length</th>\n",
       "      <th>tonnage</th>\n",
       "      <th>engine_power</th>\n",
       "      <th>active_2012</th>\n",
       "      <th>active_2013</th>\n",
       "      <th>active_2014</th>\n",
       "      <th>active_2015</th>\n",
       "      <th>active_2016</th>\n",
       "    </tr>\n",
       "  </thead>\n",
       "  <tbody>\n",
       "    <tr>\n",
       "      <th>mmsi</th>\n",
       "      <td>1.000000</td>\n",
       "      <td>0.022395</td>\n",
       "      <td>-0.039385</td>\n",
       "      <td>-0.038966</td>\n",
       "      <td>0.001724</td>\n",
       "      <td>-0.010939</td>\n",
       "      <td>-0.083691</td>\n",
       "      <td>-0.114199</td>\n",
       "      <td>-0.179723</td>\n",
       "    </tr>\n",
       "    <tr>\n",
       "      <th>length</th>\n",
       "      <td>0.022395</td>\n",
       "      <td>1.000000</td>\n",
       "      <td>0.757891</td>\n",
       "      <td>0.778176</td>\n",
       "      <td>0.166820</td>\n",
       "      <td>0.073046</td>\n",
       "      <td>0.042517</td>\n",
       "      <td>0.023754</td>\n",
       "      <td>-0.001300</td>\n",
       "    </tr>\n",
       "    <tr>\n",
       "      <th>tonnage</th>\n",
       "      <td>-0.039385</td>\n",
       "      <td>0.757891</td>\n",
       "      <td>1.000000</td>\n",
       "      <td>0.834118</td>\n",
       "      <td>0.119757</td>\n",
       "      <td>0.040279</td>\n",
       "      <td>0.027367</td>\n",
       "      <td>0.024601</td>\n",
       "      <td>0.006423</td>\n",
       "    </tr>\n",
       "    <tr>\n",
       "      <th>engine_power</th>\n",
       "      <td>-0.038966</td>\n",
       "      <td>0.778176</td>\n",
       "      <td>0.834118</td>\n",
       "      <td>1.000000</td>\n",
       "      <td>0.129537</td>\n",
       "      <td>0.035901</td>\n",
       "      <td>0.017371</td>\n",
       "      <td>0.015624</td>\n",
       "      <td>0.000365</td>\n",
       "    </tr>\n",
       "    <tr>\n",
       "      <th>active_2012</th>\n",
       "      <td>0.001724</td>\n",
       "      <td>0.166820</td>\n",
       "      <td>0.119757</td>\n",
       "      <td>0.129537</td>\n",
       "      <td>1.000000</td>\n",
       "      <td>0.531875</td>\n",
       "      <td>0.288414</td>\n",
       "      <td>0.096478</td>\n",
       "      <td>-0.114359</td>\n",
       "    </tr>\n",
       "    <tr>\n",
       "      <th>active_2013</th>\n",
       "      <td>-0.010939</td>\n",
       "      <td>0.073046</td>\n",
       "      <td>0.040279</td>\n",
       "      <td>0.035901</td>\n",
       "      <td>0.531875</td>\n",
       "      <td>1.000000</td>\n",
       "      <td>0.545886</td>\n",
       "      <td>0.207062</td>\n",
       "      <td>-0.156166</td>\n",
       "    </tr>\n",
       "    <tr>\n",
       "      <th>active_2014</th>\n",
       "      <td>-0.083691</td>\n",
       "      <td>0.042517</td>\n",
       "      <td>0.027367</td>\n",
       "      <td>0.017371</td>\n",
       "      <td>0.288414</td>\n",
       "      <td>0.545886</td>\n",
       "      <td>1.000000</td>\n",
       "      <td>0.494230</td>\n",
       "      <td>0.014179</td>\n",
       "    </tr>\n",
       "    <tr>\n",
       "      <th>active_2015</th>\n",
       "      <td>-0.114199</td>\n",
       "      <td>0.023754</td>\n",
       "      <td>0.024601</td>\n",
       "      <td>0.015624</td>\n",
       "      <td>0.096478</td>\n",
       "      <td>0.207062</td>\n",
       "      <td>0.494230</td>\n",
       "      <td>1.000000</td>\n",
       "      <td>0.300987</td>\n",
       "    </tr>\n",
       "    <tr>\n",
       "      <th>active_2016</th>\n",
       "      <td>-0.179723</td>\n",
       "      <td>-0.001300</td>\n",
       "      <td>0.006423</td>\n",
       "      <td>0.000365</td>\n",
       "      <td>-0.114359</td>\n",
       "      <td>-0.156166</td>\n",
       "      <td>0.014179</td>\n",
       "      <td>0.300987</td>\n",
       "      <td>1.000000</td>\n",
       "    </tr>\n",
       "  </tbody>\n",
       "</table>\n",
       "</div>"
      ],
      "text/plain": [
       "                  mmsi    length   tonnage  engine_power  active_2012  \\\n",
       "mmsi          1.000000  0.022395 -0.039385     -0.038966     0.001724   \n",
       "length        0.022395  1.000000  0.757891      0.778176     0.166820   \n",
       "tonnage      -0.039385  0.757891  1.000000      0.834118     0.119757   \n",
       "engine_power -0.038966  0.778176  0.834118      1.000000     0.129537   \n",
       "active_2012   0.001724  0.166820  0.119757      0.129537     1.000000   \n",
       "active_2013  -0.010939  0.073046  0.040279      0.035901     0.531875   \n",
       "active_2014  -0.083691  0.042517  0.027367      0.017371     0.288414   \n",
       "active_2015  -0.114199  0.023754  0.024601      0.015624     0.096478   \n",
       "active_2016  -0.179723 -0.001300  0.006423      0.000365    -0.114359   \n",
       "\n",
       "              active_2013  active_2014  active_2015  active_2016  \n",
       "mmsi            -0.010939    -0.083691    -0.114199    -0.179723  \n",
       "length           0.073046     0.042517     0.023754    -0.001300  \n",
       "tonnage          0.040279     0.027367     0.024601     0.006423  \n",
       "engine_power     0.035901     0.017371     0.015624     0.000365  \n",
       "active_2012      0.531875     0.288414     0.096478    -0.114359  \n",
       "active_2013      1.000000     0.545886     0.207062    -0.156166  \n",
       "active_2014      0.545886     1.000000     0.494230     0.014179  \n",
       "active_2015      0.207062     0.494230     1.000000     0.300987  \n",
       "active_2016     -0.156166     0.014179     0.300987     1.000000  "
      ]
     },
     "execution_count": 5,
     "metadata": {},
     "output_type": "execute_result"
    }
   ],
   "source": [
    "correlation = df.corr()\n",
    "\n",
    "correlation"
   ]
  },
  {
   "cell_type": "code",
   "execution_count": 6,
   "metadata": {},
   "outputs": [
    {
     "data": {
      "text/plain": [
       "mmsi             0\n",
       "flag             0\n",
       "geartype         3\n",
       "length           2\n",
       "tonnage          2\n",
       "engine_power    10\n",
       "active_2012      0\n",
       "active_2013      0\n",
       "active_2014      0\n",
       "active_2015      0\n",
       "active_2016      0\n",
       "dtype: int64"
      ]
     },
     "execution_count": 6,
     "metadata": {},
     "output_type": "execute_result"
    }
   ],
   "source": [
    "df.isnull().sum()"
   ]
  },
  {
   "cell_type": "code",
   "execution_count": 7,
   "metadata": {},
   "outputs": [
    {
     "data": {
      "text/plain": [
       "0        False\n",
       "1        False\n",
       "2        False\n",
       "3        False\n",
       "4        False\n",
       "         ...  \n",
       "73004    False\n",
       "73005    False\n",
       "73006    False\n",
       "73007    False\n",
       "73008    False\n",
       "Name: tonnage, Length: 73009, dtype: bool"
      ]
     },
     "execution_count": 7,
     "metadata": {},
     "output_type": "execute_result"
    }
   ],
   "source": [
    "df['tonnage'].isnull()"
   ]
  },
  {
   "cell_type": "code",
   "execution_count": 8,
   "metadata": {},
   "outputs": [
    {
     "data": {
      "text/plain": [
       "2"
      ]
     },
     "execution_count": 8,
     "metadata": {},
     "output_type": "execute_result"
    }
   ],
   "source": [
    "df['tonnage'].isnull().sum()"
   ]
  },
  {
   "cell_type": "code",
   "execution_count": 9,
   "metadata": {},
   "outputs": [
    {
     "data": {
      "text/plain": [
       "0        False\n",
       "1        False\n",
       "2        False\n",
       "3        False\n",
       "4        False\n",
       "         ...  \n",
       "73004    False\n",
       "73005    False\n",
       "73006    False\n",
       "73007    False\n",
       "73008    False\n",
       "Name: engine_power, Length: 73009, dtype: bool"
      ]
     },
     "execution_count": 9,
     "metadata": {},
     "output_type": "execute_result"
    }
   ],
   "source": [
    "df['engine_power'].isnull()"
   ]
  },
  {
   "cell_type": "code",
   "execution_count": 10,
   "metadata": {},
   "outputs": [
    {
     "data": {
      "text/plain": [
       "10"
      ]
     },
     "execution_count": 10,
     "metadata": {},
     "output_type": "execute_result"
    }
   ],
   "source": [
    "df['engine_power'].isnull().sum()"
   ]
  },
  {
   "cell_type": "code",
   "execution_count": 11,
   "metadata": {},
   "outputs": [],
   "source": [
    "df.fillna(df.mean(), inplace=True)"
   ]
  },
  {
   "cell_type": "code",
   "execution_count": 12,
   "metadata": {},
   "outputs": [
    {
     "data": {
      "text/plain": [
       "0"
      ]
     },
     "execution_count": 12,
     "metadata": {},
     "output_type": "execute_result"
    }
   ],
   "source": [
    "df['tonnage'].isnull().sum()"
   ]
  },
  {
   "cell_type": "code",
   "execution_count": 13,
   "metadata": {},
   "outputs": [
    {
     "data": {
      "text/plain": [
       "0"
      ]
     },
     "execution_count": 13,
     "metadata": {},
     "output_type": "execute_result"
    }
   ],
   "source": [
    "df['engine_power'].isnull().sum()"
   ]
  },
  {
   "cell_type": "code",
   "execution_count": 14,
   "metadata": {},
   "outputs": [
    {
     "data": {
      "image/png": "[encoded data removed]",
      "text/plain": [
       "<Figure size 576x432 with 2 Axes>"
      ]
     },
     "metadata": {
      "needs_background": "light"
     },
     "output_type": "display_data"
    }
   ],
   "source": [
    "# Heatmap\n",
    "\n",
    "# numeric_columns=['mmsi','length','tonnage','engine_power']\n",
    "# sns.heatmap(df[numeric_columns].corr(),annot=True, cmap='terrain', linewidths=0.1)\n",
    "sns.heatmap(correlation)\n",
    "\n",
    "fig=plt.gcf()                                       \n",
    "fig.set_size_inches(8,6)                            \n",
    "plt.show()"
   ]
  },
  {
   "cell_type": "code",
   "execution_count": 15,
   "metadata": {},
   "outputs": [
    {
     "data": {
      "image/png": "[encoded data removed]",
      "text/plain": [
       "<Figure size 576x432 with 2 Axes>"
      ]
     },
     "metadata": {
      "needs_background": "light"
     },
     "output_type": "display_data"
    }
   ],
   "source": [
    "numeric_columns=['mmsi','length','tonnage','engine_power']\n",
    "sns.heatmap(df[numeric_columns].corr(),annot=True, cmap='terrain', linewidths=0.1)\n",
    "\n",
    "\n",
    "fig=plt.gcf()                                       \n",
    "fig.set_size_inches(8,6)                            \n",
    "plt.show()"
   ]
  },
  {
   "cell_type": "code",
   "execution_count": 16,
   "metadata": {},
   "outputs": [
    {
     "data": {
      "image/png": "[encoded data removed]",
      "text/plain": [
       "<Figure size 720x720 with 4 Axes>"
      ]
     },
     "metadata": {
      "needs_background": "light"
     },
     "output_type": "display_data"
    }
   ],
   "source": [
    "# Histogram\n",
    "\n",
    "\n",
    "df[numeric_columns].hist(figsize=(10,10))\n",
    "plt.show()"
   ]
  },
  {
   "cell_type": "code",
   "execution_count": 17,
   "metadata": {},
   "outputs": [
    {
     "data": {
      "image/png": "[encoded data removed]",
      "text/plain": [
       "<Figure size 576x432 with 2 Axes>"
      ]
     },
     "metadata": {
      "needs_background": "light"
     },
     "output_type": "display_data"
    }
   ],
   "source": [
    "numeric_columns=['active_2012','active_2013','active_2014','active_2015', 'active_2016']\n",
    "sns.heatmap(df[numeric_columns].corr(),annot=True, cmap='terrain', linewidths=0.1)\n",
    "\n",
    "\n",
    "fig=plt.gcf()                                       \n",
    "fig.set_size_inches(8,6)                            \n",
    "plt.show()"
   ]
  },
  {
   "cell_type": "markdown",
   "metadata": {},
   "source": [
    "## Model Building"
   ]
  },
  {
   "cell_type": "code",
   "execution_count": 18,
   "metadata": {},
   "outputs": [],
   "source": [
    "x, y = df.loc[:, 'active_2012':'active_2015'], df.loc[:,'active_2016']"
   ]
  },
  {
   "cell_type": "code",
   "execution_count": 19,
   "metadata": {},
   "outputs": [
    {
     "name": "stdout",
     "output_type": "stream",
     "text": [
      "       active_2012  active_2013  active_2014  active_2015\n",
      "0                0            0            0            1\n",
      "1                0            0            0            1\n",
      "2                0            0            0            1\n",
      "3                0            0            0            1\n",
      "4                0            0            0            1\n",
      "...            ...          ...          ...          ...\n",
      "73004            0            1            1            1\n",
      "73005            0            0            0            1\n",
      "73006            0            0            1            1\n",
      "73007            0            0            1            1\n",
      "73008            0            0            0            0\n",
      "\n",
      "[73009 rows x 4 columns]\n"
     ]
    }
   ],
   "source": [
    "print(x) "
   ]
  },
  {
   "cell_type": "code",
   "execution_count": 20,
   "metadata": {},
   "outputs": [
    {
     "name": "stdout",
     "output_type": "stream",
     "text": [
      "0        1\n",
      "1        1\n",
      "2        1\n",
      "3        1\n",
      "4        1\n",
      "        ..\n",
      "73004    1\n",
      "73005    1\n",
      "73006    1\n",
      "73007    1\n",
      "73008    1\n",
      "Name: active_2016, Length: 73009, dtype: int32\n"
     ]
    }
   ],
   "source": [
    "print(y)"
   ]
  },
  {
   "cell_type": "code",
   "execution_count": 21,
   "metadata": {},
   "outputs": [
    {
     "data": {
      "text/plain": [
       "(73009, 4)"
      ]
     },
     "execution_count": 21,
     "metadata": {},
     "output_type": "execute_result"
    }
   ],
   "source": [
    "x.shape"
   ]
  },
  {
   "cell_type": "code",
   "execution_count": 22,
   "metadata": {},
   "outputs": [
    {
     "data": {
      "text/plain": [
       "(73009,)"
      ]
     },
     "execution_count": 22,
     "metadata": {},
     "output_type": "execute_result"
    }
   ],
   "source": [
    "y.shape"
   ]
  },
  {
   "cell_type": "markdown",
   "metadata": {},
   "source": [
    "## Model Training"
   ]
  },
  {
   "cell_type": "code",
   "execution_count": 23,
   "metadata": {},
   "outputs": [],
   "source": [
    "x_train, x_test, y_train, y_test = train_test_split(x,y,random_state=10,test_size=0.3,shuffle=True)"
   ]
  },
  {
   "cell_type": "code",
   "execution_count": 24,
   "metadata": {},
   "outputs": [
    {
     "data": {
      "text/html": [
       "<div>\n",
       "<style scoped>\n",
       "    .dataframe tbody tr th:only-of-type {\n",
       "        vertical-align: middle;\n",
       "    }\n",
       "\n",
       "    .dataframe tbody tr th {\n",
       "        vertical-align: top;\n",
       "    }\n",
       "\n",
       "    .dataframe thead th {\n",
       "        text-align: right;\n",
       "    }\n",
       "</style>\n",
       "<table border=\"1\" class=\"dataframe\">\n",
       "  <thead>\n",
       "    <tr style=\"text-align: right;\">\n",
       "      <th></th>\n",
       "      <th>active_2012</th>\n",
       "      <th>active_2013</th>\n",
       "      <th>active_2014</th>\n",
       "      <th>active_2015</th>\n",
       "    </tr>\n",
       "  </thead>\n",
       "  <tbody>\n",
       "    <tr>\n",
       "      <th>53803</th>\n",
       "      <td>1</td>\n",
       "      <td>1</td>\n",
       "      <td>1</td>\n",
       "      <td>1</td>\n",
       "    </tr>\n",
       "    <tr>\n",
       "      <th>72471</th>\n",
       "      <td>0</td>\n",
       "      <td>0</td>\n",
       "      <td>1</td>\n",
       "      <td>1</td>\n",
       "    </tr>\n",
       "    <tr>\n",
       "      <th>41263</th>\n",
       "      <td>1</td>\n",
       "      <td>1</td>\n",
       "      <td>1</td>\n",
       "      <td>1</td>\n",
       "    </tr>\n",
       "    <tr>\n",
       "      <th>15967</th>\n",
       "      <td>1</td>\n",
       "      <td>1</td>\n",
       "      <td>1</td>\n",
       "      <td>1</td>\n",
       "    </tr>\n",
       "    <tr>\n",
       "      <th>46511</th>\n",
       "      <td>1</td>\n",
       "      <td>1</td>\n",
       "      <td>1</td>\n",
       "      <td>1</td>\n",
       "    </tr>\n",
       "    <tr>\n",
       "      <th>...</th>\n",
       "      <td>...</td>\n",
       "      <td>...</td>\n",
       "      <td>...</td>\n",
       "      <td>...</td>\n",
       "    </tr>\n",
       "    <tr>\n",
       "      <th>47238</th>\n",
       "      <td>0</td>\n",
       "      <td>0</td>\n",
       "      <td>1</td>\n",
       "      <td>0</td>\n",
       "    </tr>\n",
       "    <tr>\n",
       "      <th>6667</th>\n",
       "      <td>1</td>\n",
       "      <td>1</td>\n",
       "      <td>1</td>\n",
       "      <td>1</td>\n",
       "    </tr>\n",
       "    <tr>\n",
       "      <th>26271</th>\n",
       "      <td>0</td>\n",
       "      <td>1</td>\n",
       "      <td>1</td>\n",
       "      <td>1</td>\n",
       "    </tr>\n",
       "    <tr>\n",
       "      <th>71981</th>\n",
       "      <td>0</td>\n",
       "      <td>0</td>\n",
       "      <td>0</td>\n",
       "      <td>1</td>\n",
       "    </tr>\n",
       "    <tr>\n",
       "      <th>70933</th>\n",
       "      <td>1</td>\n",
       "      <td>1</td>\n",
       "      <td>1</td>\n",
       "      <td>1</td>\n",
       "    </tr>\n",
       "  </tbody>\n",
       "</table>\n",
       "<p>21903 rows × 4 columns</p>\n",
       "</div>"
      ],
      "text/plain": [
       "       active_2012  active_2013  active_2014  active_2015\n",
       "53803            1            1            1            1\n",
       "72471            0            0            1            1\n",
       "41263            1            1            1            1\n",
       "15967            1            1            1            1\n",
       "46511            1            1            1            1\n",
       "...            ...          ...          ...          ...\n",
       "47238            0            0            1            0\n",
       "6667             1            1            1            1\n",
       "26271            0            1            1            1\n",
       "71981            0            0            0            1\n",
       "70933            1            1            1            1\n",
       "\n",
       "[21903 rows x 4 columns]"
      ]
     },
     "execution_count": 24,
     "metadata": {},
     "output_type": "execute_result"
    }
   ],
   "source": [
    "x_test"
   ]
  },
  {
   "cell_type": "code",
   "execution_count": 25,
   "metadata": {},
   "outputs": [
    {
     "data": {
      "text/plain": [
       "53803    1\n",
       "72471    1\n",
       "41263    1\n",
       "15967    1\n",
       "46511    0\n",
       "        ..\n",
       "47238    0\n",
       "6667     1\n",
       "26271    1\n",
       "71981    1\n",
       "70933    1\n",
       "Name: active_2016, Length: 21903, dtype: int32"
      ]
     },
     "execution_count": 25,
     "metadata": {},
     "output_type": "execute_result"
    }
   ],
   "source": [
    "y_test"
   ]
  },
  {
   "cell_type": "markdown",
   "metadata": {},
   "source": [
    "## Decision Tree Algorithm"
   ]
  },
  {
   "cell_type": "code",
   "execution_count": 41,
   "metadata": {},
   "outputs": [],
   "source": [
    "# Using Decision Tree\n",
    "\n",
    "Catagory=['Sorry, Your ship will be innactive in 2016','Congratulations, Your ship will be active in 2016']"
   ]
  },
  {
   "cell_type": "code",
   "execution_count": 42,
   "metadata": {},
   "outputs": [
    {
     "data": {
      "text/plain": [
       "DecisionTreeClassifier()"
      ]
     },
     "execution_count": 42,
     "metadata": {},
     "output_type": "execute_result"
    }
   ],
   "source": [
    "dt=DecisionTreeClassifier()\n",
    "\n",
    "dt.fit(x_train,y_train)"
   ]
  },
  {
   "cell_type": "code",
   "execution_count": 43,
   "metadata": {},
   "outputs": [],
   "source": [
    "prediction = dt.predict(x_test) "
   ]
  },
  {
   "cell_type": "code",
   "execution_count": 44,
   "metadata": {},
   "outputs": [
    {
     "data": {
      "text/plain": [
       "88.58603844222253"
      ]
     },
     "execution_count": 44,
     "metadata": {},
     "output_type": "execute_result"
    }
   ],
   "source": [
    "accuracy_dt=accuracy_score(y_test,prediction)*100\n",
    "\n",
    "#Checking the accuracy by comparing the x_test prediciton result with y_test \n",
    "accuracy_dt"
   ]
  },
  {
   "cell_type": "code",
   "execution_count": 45,
   "metadata": {},
   "outputs": [
    {
     "name": "stdout",
     "output_type": "stream",
     "text": [
      "Accuracy on training set: 0.883\n",
      "Accuracy on test set: 0.886\n"
     ]
    }
   ],
   "source": [
    "print(\"Accuracy on training set: {:.3f}\".format(dt.score(x_train, y_train)))\n",
    "print(\"Accuracy on test set: {:.3f}\".format(dt.score(x_test, y_test)))"
   ]
  },
  {
   "cell_type": "code",
   "execution_count": 46,
   "metadata": {},
   "outputs": [
    {
     "data": {
      "text/plain": [
       "53803    1\n",
       "72471    1\n",
       "41263    1\n",
       "15967    1\n",
       "46511    0\n",
       "        ..\n",
       "47238    0\n",
       "6667     1\n",
       "26271    1\n",
       "71981    1\n",
       "70933    1\n",
       "Name: active_2016, Length: 21903, dtype: int32"
      ]
     },
     "execution_count": 46,
     "metadata": {},
     "output_type": "execute_result"
    }
   ],
   "source": [
    "y_test"
   ]
  },
  {
   "cell_type": "code",
   "execution_count": 47,
   "metadata": {},
   "outputs": [
    {
     "data": {
      "text/plain": [
       "array([1, 1, 1, ..., 1, 1, 1])"
      ]
     },
     "execution_count": 47,
     "metadata": {},
     "output_type": "execute_result"
    }
   ],
   "source": [
    "prediction"
   ]
  },
  {
   "cell_type": "code",
   "execution_count": 48,
   "metadata": {},
   "outputs": [
    {
     "name": "stdout",
     "output_type": "stream",
     "text": [
      "[1]\n",
      "1\n"
     ]
    }
   ],
   "source": [
    "x_DT=np.array([[1, 1, 1, 1]]) \n",
    "\n",
    "x_DT_prediction=dt.predict(x_DT)                        \n",
    "\n",
    "print(x_DT_prediction)\n",
    "print(x_DT_prediction[0])"
   ]
  },
  {
   "cell_type": "code",
   "execution_count": 49,
   "metadata": {},
   "outputs": [
    {
     "name": "stdout",
     "output_type": "stream",
     "text": [
      "Congratulations, Your ship will be active in 2016\n"
     ]
    }
   ],
   "source": [
    "print(Catagory[int(x_DT_prediction[0])])"
   ]
  },
  {
   "cell_type": "code",
   "execution_count": null,
   "metadata": {},
   "outputs": [],
   "source": []
  }
 ],
 "metadata": {
  "kernelspec": {
   "display_name": "Python 3",
   "language": "python",
   "name": "python3"
  },
  "language_info": {
   "codemirror_mode": {
    "name": "ipython",
    "version": 3
   },
   "file_extension": ".py",
   "mimetype": "text/x-python",
   "name": "python",
   "nbconvert_exporter": "python",
   "pygments_lexer": "ipython3",
   "version": "3.8.3"
  }
 },
 "nbformat": 4,
 "nbformat_minor": 4
}
